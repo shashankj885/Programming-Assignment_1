{
 "cells": [
  {
   "cell_type": "code",
   "execution_count": 2,
   "id": "00c9aa43",
   "metadata": {},
   "outputs": [
    {
     "name": "stdout",
     "output_type": "stream",
     "text": [
      "Hello Python\n"
     ]
    }
   ],
   "source": [
    "a= \"Hello Python\"\n",
    "print(a)"
   ]
  },
  {
   "cell_type": "code",
   "execution_count": 14,
   "id": "7a35b1aa",
   "metadata": {},
   "outputs": [
    {
     "name": "stdout",
     "output_type": "stream",
     "text": [
      "a=10\n",
      "b=10\n",
      "Sum of a+b= 20\n"
     ]
    }
   ],
   "source": [
    "a= int(input(\"a=\"))\n",
    "b= int(input(\"b=\"))\n",
    "c= a+b\n",
    "print(\"Sum of a+b=\" ,c)"
   ]
  },
  {
   "cell_type": "code",
   "execution_count": 15,
   "id": "3abe92ff",
   "metadata": {},
   "outputs": [
    {
     "name": "stdout",
     "output_type": "stream",
     "text": [
      "a=20\n",
      "b=20\n",
      "Divion of a to b is = 1.0\n"
     ]
    }
   ],
   "source": [
    "a= int(input(\"a=\"))\n",
    "b= int(input(\"b=\"))\n",
    "c=a/b\n",
    "print(\"Divion of a to b is =\",c)"
   ]
  },
  {
   "cell_type": "code",
   "execution_count": 13,
   "id": "d2cc1912",
   "metadata": {},
   "outputs": [
    {
     "name": "stdout",
     "output_type": "stream",
     "text": [
      "Base of the triangle (b)=10\n",
      "Height of the triangle (h)=10\n",
      "Area of the trinagle is = 50.0\n"
     ]
    }
   ],
   "source": [
    "a=int(input(\"Base of the triangle (b)=\"))\n",
    "b=int (input(\"Height of the triangle (h)=\"))\n",
    "c=(a*b)/2\n",
    "print(\"Area of the trinagle is =\",c)"
   ]
  },
  {
   "cell_type": "code",
   "execution_count": 20,
   "id": "1f7ed418",
   "metadata": {},
   "outputs": [
    {
     "name": "stdout",
     "output_type": "stream",
     "text": [
      "Swaped value of x 41\n",
      "Swaped value of y 511\n"
     ]
    }
   ],
   "source": [
    "x=511\n",
    "y=41\n",
    "tem=x\n",
    "x=y\n",
    "y=tem\n",
    "print(\"Swaped value of x\",x)\n",
    "print(\"Swaped value of y\",y)"
   ]
  },
  {
   "cell_type": "code",
   "execution_count": 19,
   "id": "93b93877",
   "metadata": {},
   "outputs": [
    {
     "name": "stdout",
     "output_type": "stream",
     "text": [
      "49\n",
      "5\n"
     ]
    }
   ],
   "source": [
    "x=5\n",
    "y=49\n",
    "x,y=y,x\n",
    "print(x)\n",
    "print(y)"
   ]
  },
  {
   "cell_type": "code",
   "execution_count": 25,
   "id": "e4824d9b",
   "metadata": {},
   "outputs": [
    {
     "name": "stdout",
     "output_type": "stream",
     "text": [
      "39\n"
     ]
    }
   ],
   "source": [
    "import random\n",
    "print(random.randint(0,50))"
   ]
  }
 ],
 "metadata": {
  "kernelspec": {
   "display_name": "Python 3 (ipykernel)",
   "language": "python",
   "name": "python3"
  },
  "language_info": {
   "codemirror_mode": {
    "name": "ipython",
    "version": 3
   },
   "file_extension": ".py",
   "mimetype": "text/x-python",
   "name": "python",
   "nbconvert_exporter": "python",
   "pygments_lexer": "ipython3",
   "version": "3.9.12"
  }
 },
 "nbformat": 4,
 "nbformat_minor": 5
}
